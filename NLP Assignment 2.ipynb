{
 "cells": [
  {
   "cell_type": "code",
   "execution_count": 3,
   "metadata": {
    "collapsed": true
   },
   "outputs": [],
   "source": [
    "import re"
   ]
  },
  {
   "cell_type": "code",
   "execution_count": 52,
   "metadata": {
    "collapsed": true
   },
   "outputs": [],
   "source": [
    "def getDate(string):\n",
    "    dts=[]\n",
    "    a1=re.findall(r'(?:(?:(?:[0-2][0-9]|3[0-1])\\s)*January\\s\\d{4})',string)\n",
    "    if a1:\n",
    "        dts.append(a1[0])\n",
    "    \n",
    "    a3=re.findall(r'(?:(?:(?:[0-2][0-9])\\s)*February\\s\\d{4})',string)\n",
    "    if a3:\n",
    "        dts.append(a3[0])\n",
    " \n",
    "    \n",
    "    a5=re.findall(r'(?:(?:(?:[0-2][0-9]|3[0-1])\\s)*March\\s\\d{4})',string)\n",
    "    if a5:\n",
    "        dts.append(a5[0])\n",
    "\n",
    "        \n",
    "    a7=re.findall(r'(?:(?:(?:[0-2][0-9]|30)\\s)*April\\s\\d{4})',string)\n",
    "    if a7:\n",
    "        dts.append(a7[0])\n",
    "\n",
    "     \n",
    "    a9=re.findall(r'(?:(?:(?:[0-2][0-9]|3[0-1])\\s)*May\\s\\d{4})',string)\n",
    "    if a9:\n",
    "        dts.append(a9[0])\n",
    "  \n",
    "    \n",
    "    a11=re.findall(r'(?:(?:(?:[0-2][0-9]|30)\\s)*June\\s\\d{4})',string)\n",
    "    if a11:\n",
    "        dts.append(a11[0])\n",
    "\n",
    "\n",
    "    a13=re.findall(r'(?:(?:(?:[0-2][0-9]|3[0-1])\\s)*July\\s\\d{4})',string)\n",
    "    if a13:\n",
    "        dts.append(a13[0])\n",
    "    \n",
    "    #a14=re.findall(r'3[0-1]\\sJuly\\s\\d{4}',string)\n",
    "    #if a14:\n",
    "        #dts.append(a14[0])\n",
    "        \n",
    "    a15=re.findall(r'(?:(?:(?:[0-2][0-9]|3[0-1])\\s)*August\\s\\d{4})',string)\n",
    "    if a15:\n",
    "        dts.append(a15[0])\n",
    "     \n",
    "    #a16=re.findall(r'3[0-1]\\sAugust\\s\\d{4}',string)\n",
    "    #if a16:\n",
    "        #dts.append(a16[0])\n",
    "        \n",
    "    a17=re.findall(r'(?:(?:(?:[0-2][0-9]|30)\\s)*September\\s\\d{4})',string)\n",
    "    if a17:\n",
    "        dts.append(a17[0])\n",
    "        \n",
    "    #a18=re.findall(r'30\\sSeptember\\s\\d{4}',string)\n",
    "    #if a18:\n",
    "        #dts.append(a18[0])\n",
    "     \n",
    "    a19=re.findall(r'(?:(?:(?:[0-2][0-9]|3[0-1])\\s)*October\\s\\d{4})',string)\n",
    "    if a19:\n",
    "        dts.append(a19[0])\n",
    "        \n",
    "    #a20=re.findall(r'3[0-1]\\sOctober\\s\\d{4}',string)\n",
    "    #if a20:\n",
    "        #dts.append(a20[0])\n",
    "    \n",
    "    a21=re.findall(r'(?:(?:(?:[0-2][0-9]|30)\\s)*November\\s\\d{4})',string)\n",
    "    if a21:\n",
    "        dts.append(a21[0])\n",
    "    \n",
    "    #a22=re.findall(r'30\\sNovember\\s\\d{4}',string)\n",
    "    #if a22:\n",
    "        #dts.append(a22[0])\n",
    "        \n",
    "    a23=re.findall(r'(?:(?:(?:[0-2][0-9]|3[0-1])\\s)*December\\s\\d{4})',string)\n",
    "    if a23:\n",
    "        dts.append(a23[0])\n",
    "        \n",
    "    #a24=re.findall(r'3[0-1]\\sDecember\\s\\d{4}',string)\n",
    "    #if a24:\n",
    "        #dts.append(a24[0])\n",
    "        \n",
    "        \n",
    "    a25=re.findall(r'[0-2][0-9]/0?[1-9]/\\d{4}',string)\n",
    "    if a25:\n",
    "        dts.append(a25[0])\n",
    "        \n",
    "    \n",
    "    a26=re.findall(r'3[0-1]/0?[1-9]/\\d{4}',string)\n",
    "    if a26:\n",
    "        dts.append(a26[0])\n",
    "        \n",
    "    a27=re.findall(r'[0-2][0-9]/1[0-2]/\\d{4}',string)\n",
    "    if a27:\n",
    "        dts.append(a27[0])\n",
    "        \n",
    "    a28=re.findall(r'3[0-1]/1[0-2]/\\d{4}',string)\n",
    "    if a28:\n",
    "        dts.append(a28[0])\n",
    "        \n",
    "    a29=re.findall(r'[0-2][0-9]-0?[1-9]-\\d{4}',string)\n",
    "    if a29:\n",
    "        dts.append(a29[0])\n",
    "        \n",
    "    a30=re.findall(r'3[0-1]-0?[1-9]-\\d{4}',string)\n",
    "    if a30:\n",
    "        dts.append(a30[0])\n",
    "        \n",
    "    a31=re.findall(r'[0-2][0-9]-1[0-2]-\\d{4}',string)\n",
    "    if a31:\n",
    "        dts.append(a31[0])  \n",
    "        \n",
    "    a32=re.findall(r'3[0-1]-1[0-2]-\\d{4}',string)\n",
    "    if a32:\n",
    "        dts.append(a32[0])\n",
    "     \n",
    "    a33=re.findall(r'[0-2][0-9]\\.0?[1-9]\\.\\d{4}',string)\n",
    "    if a33:\n",
    "        dts.append(a33[0])\n",
    "    \n",
    "    a34=re.findall(r'3[0-1]\\.0?[1-9]\\.\\d{4}',string)\n",
    "    if a34:\n",
    "        dts.append(a34[0])\n",
    "        \n",
    "    a35=re.findall(r'[0-2][0-9]\\.1[0-2]\\.\\d{4}',string)\n",
    "    if a35:\n",
    "        dts.append(a35[0])\n",
    "\n",
    "    a36=re.findall(r'3[0-1]\\.1[0-2]\\.\\d{4}',string)\n",
    "    if a36:\n",
    "        dts.append(a36[0])\n",
    "        \n",
    "    if not dts:\n",
    "        print(\"No date Found\")\n",
    "        #break\n",
    "    \n",
    "    return dts"
   ]
  },
  {
   "cell_type": "code",
   "execution_count": 55,
   "metadata": {},
   "outputs": [
    {
     "name": "stdout",
     "output_type": "stream",
     "text": [
      "['22 February 1989']\n",
      "['26/11/2017']\n",
      "['15.09.1990']\n",
      "['27-09-1991']\n",
      "['12/1/2019']\n",
      "['01/01/2012']\n",
      "['01.07.1990']\n"
     ]
    }
   ],
   "source": [
    "#Correct Dates passed to function\n",
    "print(getDate(\"22 February 1989\"))\n",
    "print(getDate(\"26/11/2017\"))\n",
    "print(getDate(\"15.09.1990\"))\n",
    "print(getDate(\"27-09-1991\"))\n",
    "print(getDate(\"12/1/2019\"))\n",
    "print(getDate(\"01/01/2012\"))\n",
    "print(getDate(\"01.07.1990\"))"
   ]
  },
  {
   "cell_type": "code",
   "execution_count": 56,
   "metadata": {},
   "outputs": [
    {
     "name": "stdout",
     "output_type": "stream",
     "text": [
      "No date Found\n",
      "[]\n",
      "No date Found\n",
      "[]\n",
      "No date Found\n",
      "[]\n",
      "No date Found\n",
      "[]\n"
     ]
    }
   ],
   "source": [
    "#Incorrect Dates passed to function\n",
    "print(getDate(\"32 Sachin 1989\"))\n",
    "print(getDate(\"1-15-1989\"))\n",
    "print(getDate(\"1.1.12\"))\n",
    "print(getDate(\"04@04@2017\"))"
   ]
  },
  {
   "cell_type": "code",
   "execution_count": null,
   "metadata": {
    "collapsed": true
   },
   "outputs": [],
   "source": []
  }
 ],
 "metadata": {
  "kernelspec": {
   "display_name": "Python 3",
   "language": "python",
   "name": "python3"
  },
  "language_info": {
   "codemirror_mode": {
    "name": "ipython",
    "version": 3
   },
   "file_extension": ".py",
   "mimetype": "text/x-python",
   "name": "python",
   "nbconvert_exporter": "python",
   "pygments_lexer": "ipython3",
   "version": "3.5.2"
  }
 },
 "nbformat": 4,
 "nbformat_minor": 2
}
